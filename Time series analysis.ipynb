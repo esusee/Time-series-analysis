{
 "cells": [
  {
   "cell_type": "markdown",
   "id": "8d534e85",
   "metadata": {},
   "source": [
    "# Time series analysis on finance data"
   ]
  },
  {
   "cell_type": "code",
   "execution_count": 1,
   "id": "e6d80eb5",
   "metadata": {},
   "outputs": [],
   "source": [
    "import pandas as pd\n",
    "import numpy as np"
   ]
  },
  {
   "cell_type": "code",
   "execution_count": 2,
   "id": "b11dc67d",
   "metadata": {},
   "outputs": [],
   "source": [
    "data_frame = pd.read_csv(r'C:\\Users\\susee\\Desktop\\Practice\\Time series analysis/Fin_analysis.csv')"
   ]
  },
  {
   "cell_type": "code",
   "execution_count": 3,
   "id": "7cbd3357",
   "metadata": {},
   "outputs": [
    {
     "data": {
      "text/html": [
       "<div>\n",
       "<style scoped>\n",
       "    .dataframe tbody tr th:only-of-type {\n",
       "        vertical-align: middle;\n",
       "    }\n",
       "\n",
       "    .dataframe tbody tr th {\n",
       "        vertical-align: top;\n",
       "    }\n",
       "\n",
       "    .dataframe thead th {\n",
       "        text-align: right;\n",
       "    }\n",
       "</style>\n",
       "<table border=\"1\" class=\"dataframe\">\n",
       "  <thead>\n",
       "    <tr style=\"text-align: right;\">\n",
       "      <th></th>\n",
       "      <th>Date</th>\n",
       "      <th>Symbol</th>\n",
       "      <th>Series</th>\n",
       "      <th>Prev Close</th>\n",
       "      <th>Open</th>\n",
       "      <th>High</th>\n",
       "      <th>Low</th>\n",
       "      <th>Last</th>\n",
       "      <th>Close</th>\n",
       "      <th>VWAP</th>\n",
       "      <th>Volume</th>\n",
       "      <th>Turnover</th>\n",
       "      <th>Trades</th>\n",
       "      <th>Deliverable Volume</th>\n",
       "      <th>%Deliverble</th>\n",
       "    </tr>\n",
       "  </thead>\n",
       "  <tbody>\n",
       "    <tr>\n",
       "      <th>0</th>\n",
       "      <td>2000-01-03</td>\n",
       "      <td>BAJAUTOFIN</td>\n",
       "      <td>EQ</td>\n",
       "      <td>46.95</td>\n",
       "      <td>49.45</td>\n",
       "      <td>50.75</td>\n",
       "      <td>46.5</td>\n",
       "      <td>50.75</td>\n",
       "      <td>50.75</td>\n",
       "      <td>50.05</td>\n",
       "      <td>7600</td>\n",
       "      <td>3.803800e+10</td>\n",
       "      <td>NaN</td>\n",
       "      <td>NaN</td>\n",
       "      <td>NaN</td>\n",
       "    </tr>\n",
       "    <tr>\n",
       "      <th>1</th>\n",
       "      <td>2000-01-04</td>\n",
       "      <td>BAJAUTOFIN</td>\n",
       "      <td>EQ</td>\n",
       "      <td>50.75</td>\n",
       "      <td>53.20</td>\n",
       "      <td>53.20</td>\n",
       "      <td>47.9</td>\n",
       "      <td>48.00</td>\n",
       "      <td>48.10</td>\n",
       "      <td>48.56</td>\n",
       "      <td>5000</td>\n",
       "      <td>2.428000e+10</td>\n",
       "      <td>NaN</td>\n",
       "      <td>NaN</td>\n",
       "      <td>NaN</td>\n",
       "    </tr>\n",
       "  </tbody>\n",
       "</table>\n",
       "</div>"
      ],
      "text/plain": [
       "         Date      Symbol Series  Prev Close   Open   High   Low   Last  \\\n",
       "0  2000-01-03  BAJAUTOFIN     EQ       46.95  49.45  50.75  46.5  50.75   \n",
       "1  2000-01-04  BAJAUTOFIN     EQ       50.75  53.20  53.20  47.9  48.00   \n",
       "\n",
       "   Close   VWAP  Volume      Turnover  Trades  Deliverable Volume  %Deliverble  \n",
       "0  50.75  50.05    7600  3.803800e+10     NaN                 NaN          NaN  \n",
       "1  48.10  48.56    5000  2.428000e+10     NaN                 NaN          NaN  "
      ]
     },
     "execution_count": 3,
     "metadata": {},
     "output_type": "execute_result"
    }
   ],
   "source": [
    "data_frame.head(2)"
   ]
  },
  {
   "cell_type": "code",
   "execution_count": 4,
   "id": "5e8704bb",
   "metadata": {},
   "outputs": [],
   "source": [
    "# set the date column as index"
   ]
  },
  {
   "cell_type": "code",
   "execution_count": 5,
   "id": "32c6079f",
   "metadata": {},
   "outputs": [],
   "source": [
    "data_frame.set_index('Date',inplace=True)"
   ]
  },
  {
   "cell_type": "code",
   "execution_count": 6,
   "id": "752c3440",
   "metadata": {},
   "outputs": [],
   "source": [
    "# finding the trend of VWAP column"
   ]
  },
  {
   "cell_type": "code",
   "execution_count": 7,
   "id": "8e322f21",
   "metadata": {},
   "outputs": [
    {
     "data": {
      "text/plain": [
       "<AxesSubplot:xlabel='Date'>"
      ]
     },
     "execution_count": 7,
     "metadata": {},
     "output_type": "execute_result"
    },
    {
     "data": {
      "image/png": "[encoded data removed]",
      "text/plain": [
       "<Figure size 640x480 with 1 Axes>"
      ]
     },
     "metadata": {},
     "output_type": "display_data"
    }
   ],
   "source": [
    "data_frame['VWAP'].plot()"
   ]
  },
  {
   "cell_type": "code",
   "execution_count": 8,
   "id": "3952964c",
   "metadata": {},
   "outputs": [
    {
     "data": {
      "text/plain": [
       "(5070, 14)"
      ]
     },
     "execution_count": 8,
     "metadata": {},
     "output_type": "execute_result"
    }
   ],
   "source": [
    "data_frame.shape"
   ]
  },
  {
   "cell_type": "code",
   "execution_count": 9,
   "id": "036ee94a",
   "metadata": {},
   "outputs": [],
   "source": [
    "# checking null values in the dataset"
   ]
  },
  {
   "cell_type": "code",
   "execution_count": 10,
   "id": "855c3d84",
   "metadata": {},
   "outputs": [
    {
     "data": {
      "text/plain": [
       "Symbol                   0\n",
       "Series                   0\n",
       "Prev Close               0\n",
       "Open                     0\n",
       "High                     0\n",
       "Low                      0\n",
       "Last                     0\n",
       "Close                    0\n",
       "VWAP                     0\n",
       "Volume                   0\n",
       "Turnover                 0\n",
       "Trades                2779\n",
       "Deliverable Volume     446\n",
       "%Deliverble            446\n",
       "dtype: int64"
      ]
     },
     "execution_count": 10,
     "metadata": {},
     "output_type": "execute_result"
    }
   ],
   "source": [
    "data_frame.isna().sum()"
   ]
  },
  {
   "cell_type": "code",
   "execution_count": 11,
   "id": "a94eb8d4",
   "metadata": {},
   "outputs": [],
   "source": [
    "# drop null values from the dataset"
   ]
  },
  {
   "cell_type": "code",
   "execution_count": 12,
   "id": "4d93154e",
   "metadata": {},
   "outputs": [],
   "source": [
    "data_frame.dropna(inplace=True)"
   ]
  },
  {
   "cell_type": "code",
   "execution_count": 13,
   "id": "7e2f0df3",
   "metadata": {},
   "outputs": [
    {
     "data": {
      "text/plain": [
       "Symbol                0\n",
       "Series                0\n",
       "Prev Close            0\n",
       "Open                  0\n",
       "High                  0\n",
       "Low                   0\n",
       "Last                  0\n",
       "Close                 0\n",
       "VWAP                  0\n",
       "Volume                0\n",
       "Turnover              0\n",
       "Trades                0\n",
       "Deliverable Volume    0\n",
       "%Deliverble           0\n",
       "dtype: int64"
      ]
     },
     "execution_count": 13,
     "metadata": {},
     "output_type": "execute_result"
    }
   ],
   "source": [
    "data_frame.isna().sum()"
   ]
  },
  {
   "cell_type": "code",
   "execution_count": 14,
   "id": "364e96be",
   "metadata": {},
   "outputs": [
    {
     "data": {
      "text/plain": [
       "(2291, 14)"
      ]
     },
     "execution_count": 14,
     "metadata": {},
     "output_type": "execute_result"
    }
   ],
   "source": [
    "data_frame.shape"
   ]
  },
  {
   "cell_type": "code",
   "execution_count": 15,
   "id": "c0c37887",
   "metadata": {},
   "outputs": [],
   "source": [
    "# copying data_frame into data "
   ]
  },
  {
   "cell_type": "code",
   "execution_count": 53,
   "id": "be326b55",
   "metadata": {},
   "outputs": [],
   "source": [
    "data1 = data_frame.copy()"
   ]
  },
  {
   "cell_type": "code",
   "execution_count": 54,
   "id": "c6a14350",
   "metadata": {},
   "outputs": [
    {
     "data": {
      "text/html": [
       "<div>\n",
       "<style scoped>\n",
       "    .dataframe tbody tr th:only-of-type {\n",
       "        vertical-align: middle;\n",
       "    }\n",
       "\n",
       "    .dataframe tbody tr th {\n",
       "        vertical-align: top;\n",
       "    }\n",
       "\n",
       "    .dataframe thead th {\n",
       "        text-align: right;\n",
       "    }\n",
       "</style>\n",
       "<table border=\"1\" class=\"dataframe\">\n",
       "  <thead>\n",
       "    <tr style=\"text-align: right;\">\n",
       "      <th></th>\n",
       "      <th>Symbol</th>\n",
       "      <th>Series</th>\n",
       "      <th>Prev Close</th>\n",
       "      <th>Open</th>\n",
       "      <th>High</th>\n",
       "      <th>Low</th>\n",
       "      <th>Last</th>\n",
       "      <th>Close</th>\n",
       "      <th>VWAP</th>\n",
       "      <th>Volume</th>\n",
       "      <th>Turnover</th>\n",
       "      <th>Trades</th>\n",
       "      <th>Deliverable Volume</th>\n",
       "      <th>%Deliverble</th>\n",
       "    </tr>\n",
       "    <tr>\n",
       "      <th>Date</th>\n",
       "      <th></th>\n",
       "      <th></th>\n",
       "      <th></th>\n",
       "      <th></th>\n",
       "      <th></th>\n",
       "      <th></th>\n",
       "      <th></th>\n",
       "      <th></th>\n",
       "      <th></th>\n",
       "      <th></th>\n",
       "      <th></th>\n",
       "      <th></th>\n",
       "      <th></th>\n",
       "      <th></th>\n",
       "    </tr>\n",
       "  </thead>\n",
       "  <tbody>\n",
       "    <tr>\n",
       "      <th>2011-06-01</th>\n",
       "      <td>BAJFINANCE</td>\n",
       "      <td>EQ</td>\n",
       "      <td>616.70</td>\n",
       "      <td>617.00</td>\n",
       "      <td>636.50</td>\n",
       "      <td>616.00</td>\n",
       "      <td>627.00</td>\n",
       "      <td>631.85</td>\n",
       "      <td>627.01</td>\n",
       "      <td>6894</td>\n",
       "      <td>4.322621e+11</td>\n",
       "      <td>1416.0</td>\n",
       "      <td>3427.0</td>\n",
       "      <td>0.4971</td>\n",
       "    </tr>\n",
       "    <tr>\n",
       "      <th>2011-06-02</th>\n",
       "      <td>BAJFINANCE</td>\n",
       "      <td>EQ</td>\n",
       "      <td>631.85</td>\n",
       "      <td>625.00</td>\n",
       "      <td>638.90</td>\n",
       "      <td>620.00</td>\n",
       "      <td>634.00</td>\n",
       "      <td>633.45</td>\n",
       "      <td>636.04</td>\n",
       "      <td>2769</td>\n",
       "      <td>1.761205e+11</td>\n",
       "      <td>432.0</td>\n",
       "      <td>1718.0</td>\n",
       "      <td>0.6204</td>\n",
       "    </tr>\n",
       "    <tr>\n",
       "      <th>2011-06-03</th>\n",
       "      <td>BAJFINANCE</td>\n",
       "      <td>EQ</td>\n",
       "      <td>633.45</td>\n",
       "      <td>625.15</td>\n",
       "      <td>637.80</td>\n",
       "      <td>620.00</td>\n",
       "      <td>623.00</td>\n",
       "      <td>625.00</td>\n",
       "      <td>625.09</td>\n",
       "      <td>51427</td>\n",
       "      <td>3.214631e+12</td>\n",
       "      <td>135.0</td>\n",
       "      <td>50912.0</td>\n",
       "      <td>0.9900</td>\n",
       "    </tr>\n",
       "    <tr>\n",
       "      <th>2011-06-06</th>\n",
       "      <td>BAJFINANCE</td>\n",
       "      <td>EQ</td>\n",
       "      <td>625.00</td>\n",
       "      <td>620.00</td>\n",
       "      <td>641.00</td>\n",
       "      <td>611.35</td>\n",
       "      <td>611.35</td>\n",
       "      <td>614.00</td>\n",
       "      <td>616.03</td>\n",
       "      <td>5446</td>\n",
       "      <td>3.354910e+11</td>\n",
       "      <td>268.0</td>\n",
       "      <td>4312.0</td>\n",
       "      <td>0.7918</td>\n",
       "    </tr>\n",
       "    <tr>\n",
       "      <th>2011-06-07</th>\n",
       "      <td>BAJFINANCE</td>\n",
       "      <td>EQ</td>\n",
       "      <td>614.00</td>\n",
       "      <td>604.00</td>\n",
       "      <td>623.95</td>\n",
       "      <td>604.00</td>\n",
       "      <td>619.90</td>\n",
       "      <td>619.15</td>\n",
       "      <td>617.73</td>\n",
       "      <td>5991</td>\n",
       "      <td>3.700840e+11</td>\n",
       "      <td>273.0</td>\n",
       "      <td>4073.0</td>\n",
       "      <td>0.6799</td>\n",
       "    </tr>\n",
       "    <tr>\n",
       "      <th>...</th>\n",
       "      <td>...</td>\n",
       "      <td>...</td>\n",
       "      <td>...</td>\n",
       "      <td>...</td>\n",
       "      <td>...</td>\n",
       "      <td>...</td>\n",
       "      <td>...</td>\n",
       "      <td>...</td>\n",
       "      <td>...</td>\n",
       "      <td>...</td>\n",
       "      <td>...</td>\n",
       "      <td>...</td>\n",
       "      <td>...</td>\n",
       "      <td>...</td>\n",
       "    </tr>\n",
       "    <tr>\n",
       "      <th>2020-08-25</th>\n",
       "      <td>BAJFINANCE</td>\n",
       "      <td>EQ</td>\n",
       "      <td>3492.05</td>\n",
       "      <td>3525.00</td>\n",
       "      <td>3660.00</td>\n",
       "      <td>3510.00</td>\n",
       "      <td>3658.00</td>\n",
       "      <td>3642.90</td>\n",
       "      <td>3579.12</td>\n",
       "      <td>9854070</td>\n",
       "      <td>3.526895e+15</td>\n",
       "      <td>339815.0</td>\n",
       "      <td>1498309.0</td>\n",
       "      <td>0.1520</td>\n",
       "    </tr>\n",
       "    <tr>\n",
       "      <th>2020-08-26</th>\n",
       "      <td>BAJFINANCE</td>\n",
       "      <td>EQ</td>\n",
       "      <td>3642.90</td>\n",
       "      <td>3665.00</td>\n",
       "      <td>3707.00</td>\n",
       "      <td>3631.00</td>\n",
       "      <td>3638.20</td>\n",
       "      <td>3645.55</td>\n",
       "      <td>3668.17</td>\n",
       "      <td>6665336</td>\n",
       "      <td>2.444958e+15</td>\n",
       "      <td>213994.0</td>\n",
       "      <td>944373.0</td>\n",
       "      <td>0.1417</td>\n",
       "    </tr>\n",
       "    <tr>\n",
       "      <th>2020-08-27</th>\n",
       "      <td>BAJFINANCE</td>\n",
       "      <td>EQ</td>\n",
       "      <td>3645.55</td>\n",
       "      <td>3656.95</td>\n",
       "      <td>3668.40</td>\n",
       "      <td>3596.40</td>\n",
       "      <td>3636.00</td>\n",
       "      <td>3632.50</td>\n",
       "      <td>3631.13</td>\n",
       "      <td>4611132</td>\n",
       "      <td>1.674361e+15</td>\n",
       "      <td>162374.0</td>\n",
       "      <td>387513.0</td>\n",
       "      <td>0.0840</td>\n",
       "    </tr>\n",
       "    <tr>\n",
       "      <th>2020-08-28</th>\n",
       "      <td>BAJFINANCE</td>\n",
       "      <td>EQ</td>\n",
       "      <td>3632.50</td>\n",
       "      <td>3650.00</td>\n",
       "      <td>3688.00</td>\n",
       "      <td>3617.05</td>\n",
       "      <td>3672.05</td>\n",
       "      <td>3670.80</td>\n",
       "      <td>3652.77</td>\n",
       "      <td>4251575</td>\n",
       "      <td>1.553003e+15</td>\n",
       "      <td>137033.0</td>\n",
       "      <td>434147.0</td>\n",
       "      <td>0.1021</td>\n",
       "    </tr>\n",
       "    <tr>\n",
       "      <th>2020-08-31</th>\n",
       "      <td>BAJFINANCE</td>\n",
       "      <td>EQ</td>\n",
       "      <td>3670.80</td>\n",
       "      <td>3715.00</td>\n",
       "      <td>3749.85</td>\n",
       "      <td>3465.00</td>\n",
       "      <td>3478.50</td>\n",
       "      <td>3487.80</td>\n",
       "      <td>3602.93</td>\n",
       "      <td>8529788</td>\n",
       "      <td>3.073224e+15</td>\n",
       "      <td>293454.0</td>\n",
       "      <td>1321559.0</td>\n",
       "      <td>0.1549</td>\n",
       "    </tr>\n",
       "  </tbody>\n",
       "</table>\n",
       "<p>2291 rows × 14 columns</p>\n",
       "</div>"
      ],
      "text/plain": [
       "                Symbol Series  Prev Close     Open     High      Low     Last  \\\n",
       "Date                                                                            \n",
       "2011-06-01  BAJFINANCE     EQ      616.70   617.00   636.50   616.00   627.00   \n",
       "2011-06-02  BAJFINANCE     EQ      631.85   625.00   638.90   620.00   634.00   \n",
       "2011-06-03  BAJFINANCE     EQ      633.45   625.15   637.80   620.00   623.00   \n",
       "2011-06-06  BAJFINANCE     EQ      625.00   620.00   641.00   611.35   611.35   \n",
       "2011-06-07  BAJFINANCE     EQ      614.00   604.00   623.95   604.00   619.90   \n",
       "...                ...    ...         ...      ...      ...      ...      ...   \n",
       "2020-08-25  BAJFINANCE     EQ     3492.05  3525.00  3660.00  3510.00  3658.00   \n",
       "2020-08-26  BAJFINANCE     EQ     3642.90  3665.00  3707.00  3631.00  3638.20   \n",
       "2020-08-27  BAJFINANCE     EQ     3645.55  3656.95  3668.40  3596.40  3636.00   \n",
       "2020-08-28  BAJFINANCE     EQ     3632.50  3650.00  3688.00  3617.05  3672.05   \n",
       "2020-08-31  BAJFINANCE     EQ     3670.80  3715.00  3749.85  3465.00  3478.50   \n",
       "\n",
       "              Close     VWAP   Volume      Turnover    Trades  \\\n",
       "Date                                                            \n",
       "2011-06-01   631.85   627.01     6894  4.322621e+11    1416.0   \n",
       "2011-06-02   633.45   636.04     2769  1.761205e+11     432.0   \n",
       "2011-06-03   625.00   625.09    51427  3.214631e+12     135.0   \n",
       "2011-06-06   614.00   616.03     5446  3.354910e+11     268.0   \n",
       "2011-06-07   619.15   617.73     5991  3.700840e+11     273.0   \n",
       "...             ...      ...      ...           ...       ...   \n",
       "2020-08-25  3642.90  3579.12  9854070  3.526895e+15  339815.0   \n",
       "2020-08-26  3645.55  3668.17  6665336  2.444958e+15  213994.0   \n",
       "2020-08-27  3632.50  3631.13  4611132  1.674361e+15  162374.0   \n",
       "2020-08-28  3670.80  3652.77  4251575  1.553003e+15  137033.0   \n",
       "2020-08-31  3487.80  3602.93  8529788  3.073224e+15  293454.0   \n",
       "\n",
       "            Deliverable Volume  %Deliverble  \n",
       "Date                                         \n",
       "2011-06-01              3427.0       0.4971  \n",
       "2011-06-02              1718.0       0.6204  \n",
       "2011-06-03             50912.0       0.9900  \n",
       "2011-06-06              4312.0       0.7918  \n",
       "2011-06-07              4073.0       0.6799  \n",
       "...                        ...          ...  \n",
       "2020-08-25           1498309.0       0.1520  \n",
       "2020-08-26            944373.0       0.1417  \n",
       "2020-08-27            387513.0       0.0840  \n",
       "2020-08-28            434147.0       0.1021  \n",
       "2020-08-31           1321559.0       0.1549  \n",
       "\n",
       "[2291 rows x 14 columns]"
      ]
     },
     "execution_count": 54,
     "metadata": {},
     "output_type": "execute_result"
    }
   ],
   "source": [
    "data1"
   ]
  },
  {
   "cell_type": "code",
   "execution_count": 55,
   "id": "633e854d",
   "metadata": {},
   "outputs": [
    {
     "data": {
      "text/plain": [
       "Symbol                 object\n",
       "Series                 object\n",
       "Prev Close            float64\n",
       "Open                  float64\n",
       "High                  float64\n",
       "Low                   float64\n",
       "Last                  float64\n",
       "Close                 float64\n",
       "VWAP                  float64\n",
       "Volume                  int64\n",
       "Turnover              float64\n",
       "Trades                float64\n",
       "Deliverable Volume    float64\n",
       "%Deliverble           float64\n",
       "dtype: object"
      ]
     },
     "execution_count": 55,
     "metadata": {},
     "output_type": "execute_result"
    }
   ],
   "source": [
    "data1.dtypes"
   ]
  },
  {
   "cell_type": "code",
   "execution_count": 56,
   "id": "d08c860e",
   "metadata": {},
   "outputs": [
    {
     "data": {
      "text/plain": [
       "Index(['Symbol', 'Series', 'Prev Close', 'Open', 'High', 'Low', 'Last',\n",
       "       'Close', 'VWAP', 'Volume', 'Turnover', 'Trades', 'Deliverable Volume',\n",
       "       '%Deliverble'],\n",
       "      dtype='object')"
      ]
     },
     "execution_count": 56,
     "metadata": {},
     "output_type": "execute_result"
    }
   ],
   "source": [
    "data1.columns"
   ]
  },
  {
   "cell_type": "code",
   "execution_count": 20,
   "id": "9fffe59c",
   "metadata": {},
   "outputs": [],
   "source": [
    "# creating a list using colums - 'High', 'Low' ,'Volume'"
   ]
  },
  {
   "cell_type": "code",
   "execution_count": 21,
   "id": "608483f4",
   "metadata": {},
   "outputs": [],
   "source": [
    "lag_features = ['High', 'Low','Volume', 'Turnover','Trades']\n",
    "window1 = 3\n",
    "window2 = 7"
   ]
  },
  {
   "cell_type": "code",
   "execution_count": 22,
   "id": "6879ba50",
   "metadata": {},
   "outputs": [],
   "source": [
    "# moving average and rolling features"
   ]
  },
  {
   "cell_type": "code",
   "execution_count": 57,
   "id": "39a3be4d",
   "metadata": {},
   "outputs": [],
   "source": [
    "for feature in lag_features:\n",
    "    data1[feature+'_roll_mean3'] = data1[feature].rolling(window=window1).mean()\n",
    "    data1[feature+'_roll_mean7'] = data1[feature].rolling(window=window2).mean()"
   ]
  },
  {
   "cell_type": "code",
   "execution_count": 58,
   "id": "3c9335d4",
   "metadata": {},
   "outputs": [],
   "source": [
    "for feature in lag_features:\n",
    "    data1[feature+'_roll_std3'] = data1[feature].rolling(window=window1).std()\n",
    "    data1[feature+'_roll_std7'] = data1[feature].rolling(window=window2).std()"
   ]
  },
  {
   "cell_type": "markdown",
   "id": "1a4e64da",
   "metadata": {},
   "source": [
    "# checking new features in data frame"
   ]
  },
  {
   "cell_type": "code",
   "execution_count": 59,
   "id": "787fc1c4",
   "metadata": {},
   "outputs": [
    {
     "data": {
      "text/html": [
       "<div>\n",
       "<style scoped>\n",
       "    .dataframe tbody tr th:only-of-type {\n",
       "        vertical-align: middle;\n",
       "    }\n",
       "\n",
       "    .dataframe tbody tr th {\n",
       "        vertical-align: top;\n",
       "    }\n",
       "\n",
       "    .dataframe thead th {\n",
       "        text-align: right;\n",
       "    }\n",
       "</style>\n",
       "<table border=\"1\" class=\"dataframe\">\n",
       "  <thead>\n",
       "    <tr style=\"text-align: right;\">\n",
       "      <th></th>\n",
       "      <th>Symbol</th>\n",
       "      <th>Series</th>\n",
       "      <th>Prev Close</th>\n",
       "      <th>Open</th>\n",
       "      <th>High</th>\n",
       "      <th>Low</th>\n",
       "      <th>Last</th>\n",
       "      <th>Close</th>\n",
       "      <th>VWAP</th>\n",
       "      <th>Volume</th>\n",
       "      <th>...</th>\n",
       "      <th>High_roll_std3</th>\n",
       "      <th>High_roll_std7</th>\n",
       "      <th>Low_roll_std3</th>\n",
       "      <th>Low_roll_std7</th>\n",
       "      <th>Volume_roll_std3</th>\n",
       "      <th>Volume_roll_std7</th>\n",
       "      <th>Turnover_roll_std3</th>\n",
       "      <th>Turnover_roll_std7</th>\n",
       "      <th>Trades_roll_std3</th>\n",
       "      <th>Trades_roll_std7</th>\n",
       "    </tr>\n",
       "    <tr>\n",
       "      <th>Date</th>\n",
       "      <th></th>\n",
       "      <th></th>\n",
       "      <th></th>\n",
       "      <th></th>\n",
       "      <th></th>\n",
       "      <th></th>\n",
       "      <th></th>\n",
       "      <th></th>\n",
       "      <th></th>\n",
       "      <th></th>\n",
       "      <th></th>\n",
       "      <th></th>\n",
       "      <th></th>\n",
       "      <th></th>\n",
       "      <th></th>\n",
       "      <th></th>\n",
       "      <th></th>\n",
       "      <th></th>\n",
       "      <th></th>\n",
       "      <th></th>\n",
       "      <th></th>\n",
       "    </tr>\n",
       "  </thead>\n",
       "  <tbody>\n",
       "    <tr>\n",
       "      <th>2011-06-01</th>\n",
       "      <td>BAJFINANCE</td>\n",
       "      <td>EQ</td>\n",
       "      <td>616.70</td>\n",
       "      <td>617.00</td>\n",
       "      <td>636.50</td>\n",
       "      <td>616.00</td>\n",
       "      <td>627.00</td>\n",
       "      <td>631.85</td>\n",
       "      <td>627.01</td>\n",
       "      <td>6894</td>\n",
       "      <td>...</td>\n",
       "      <td>NaN</td>\n",
       "      <td>NaN</td>\n",
       "      <td>NaN</td>\n",
       "      <td>NaN</td>\n",
       "      <td>NaN</td>\n",
       "      <td>NaN</td>\n",
       "      <td>NaN</td>\n",
       "      <td>NaN</td>\n",
       "      <td>NaN</td>\n",
       "      <td>NaN</td>\n",
       "    </tr>\n",
       "    <tr>\n",
       "      <th>2011-06-02</th>\n",
       "      <td>BAJFINANCE</td>\n",
       "      <td>EQ</td>\n",
       "      <td>631.85</td>\n",
       "      <td>625.00</td>\n",
       "      <td>638.90</td>\n",
       "      <td>620.00</td>\n",
       "      <td>634.00</td>\n",
       "      <td>633.45</td>\n",
       "      <td>636.04</td>\n",
       "      <td>2769</td>\n",
       "      <td>...</td>\n",
       "      <td>NaN</td>\n",
       "      <td>NaN</td>\n",
       "      <td>NaN</td>\n",
       "      <td>NaN</td>\n",
       "      <td>NaN</td>\n",
       "      <td>NaN</td>\n",
       "      <td>NaN</td>\n",
       "      <td>NaN</td>\n",
       "      <td>NaN</td>\n",
       "      <td>NaN</td>\n",
       "    </tr>\n",
       "    <tr>\n",
       "      <th>2011-06-03</th>\n",
       "      <td>BAJFINANCE</td>\n",
       "      <td>EQ</td>\n",
       "      <td>633.45</td>\n",
       "      <td>625.15</td>\n",
       "      <td>637.80</td>\n",
       "      <td>620.00</td>\n",
       "      <td>623.00</td>\n",
       "      <td>625.00</td>\n",
       "      <td>625.09</td>\n",
       "      <td>51427</td>\n",
       "      <td>...</td>\n",
       "      <td>1.201388</td>\n",
       "      <td>NaN</td>\n",
       "      <td>2.309401</td>\n",
       "      <td>NaN</td>\n",
       "      <td>26980.871860</td>\n",
       "      <td>NaN</td>\n",
       "      <td>1.685217e+12</td>\n",
       "      <td>NaN</td>\n",
       "      <td>670.500559</td>\n",
       "      <td>NaN</td>\n",
       "    </tr>\n",
       "    <tr>\n",
       "      <th>2011-06-06</th>\n",
       "      <td>BAJFINANCE</td>\n",
       "      <td>EQ</td>\n",
       "      <td>625.00</td>\n",
       "      <td>620.00</td>\n",
       "      <td>641.00</td>\n",
       "      <td>611.35</td>\n",
       "      <td>611.35</td>\n",
       "      <td>614.00</td>\n",
       "      <td>616.03</td>\n",
       "      <td>5446</td>\n",
       "      <td>...</td>\n",
       "      <td>1.625833</td>\n",
       "      <td>NaN</td>\n",
       "      <td>4.994080</td>\n",
       "      <td>NaN</td>\n",
       "      <td>27352.695339</td>\n",
       "      <td>NaN</td>\n",
       "      <td>1.710136e+12</td>\n",
       "      <td>NaN</td>\n",
       "      <td>148.769396</td>\n",
       "      <td>NaN</td>\n",
       "    </tr>\n",
       "    <tr>\n",
       "      <th>2011-06-07</th>\n",
       "      <td>BAJFINANCE</td>\n",
       "      <td>EQ</td>\n",
       "      <td>614.00</td>\n",
       "      <td>604.00</td>\n",
       "      <td>623.95</td>\n",
       "      <td>604.00</td>\n",
       "      <td>619.90</td>\n",
       "      <td>619.15</td>\n",
       "      <td>617.73</td>\n",
       "      <td>5991</td>\n",
       "      <td>...</td>\n",
       "      <td>9.062422</td>\n",
       "      <td>NaN</td>\n",
       "      <td>8.008797</td>\n",
       "      <td>NaN</td>\n",
       "      <td>26391.221653</td>\n",
       "      <td>NaN</td>\n",
       "      <td>1.652377e+12</td>\n",
       "      <td>NaN</td>\n",
       "      <td>78.270897</td>\n",
       "      <td>NaN</td>\n",
       "    </tr>\n",
       "  </tbody>\n",
       "</table>\n",
       "<p>5 rows × 34 columns</p>\n",
       "</div>"
      ],
      "text/plain": [
       "                Symbol Series  Prev Close    Open    High     Low    Last  \\\n",
       "Date                                                                        \n",
       "2011-06-01  BAJFINANCE     EQ      616.70  617.00  636.50  616.00  627.00   \n",
       "2011-06-02  BAJFINANCE     EQ      631.85  625.00  638.90  620.00  634.00   \n",
       "2011-06-03  BAJFINANCE     EQ      633.45  625.15  637.80  620.00  623.00   \n",
       "2011-06-06  BAJFINANCE     EQ      625.00  620.00  641.00  611.35  611.35   \n",
       "2011-06-07  BAJFINANCE     EQ      614.00  604.00  623.95  604.00  619.90   \n",
       "\n",
       "             Close    VWAP  Volume  ...  High_roll_std3  High_roll_std7  \\\n",
       "Date                                ...                                   \n",
       "2011-06-01  631.85  627.01    6894  ...             NaN             NaN   \n",
       "2011-06-02  633.45  636.04    2769  ...             NaN             NaN   \n",
       "2011-06-03  625.00  625.09   51427  ...        1.201388             NaN   \n",
       "2011-06-06  614.00  616.03    5446  ...        1.625833             NaN   \n",
       "2011-06-07  619.15  617.73    5991  ...        9.062422             NaN   \n",
       "\n",
       "            Low_roll_std3  Low_roll_std7  Volume_roll_std3  Volume_roll_std7  \\\n",
       "Date                                                                           \n",
       "2011-06-01            NaN            NaN               NaN               NaN   \n",
       "2011-06-02            NaN            NaN               NaN               NaN   \n",
       "2011-06-03       2.309401            NaN      26980.871860               NaN   \n",
       "2011-06-06       4.994080            NaN      27352.695339               NaN   \n",
       "2011-06-07       8.008797            NaN      26391.221653               NaN   \n",
       "\n",
       "            Turnover_roll_std3  Turnover_roll_std7  Trades_roll_std3  \\\n",
       "Date                                                                   \n",
       "2011-06-01                 NaN                 NaN               NaN   \n",
       "2011-06-02                 NaN                 NaN               NaN   \n",
       "2011-06-03        1.685217e+12                 NaN        670.500559   \n",
       "2011-06-06        1.710136e+12                 NaN        148.769396   \n",
       "2011-06-07        1.652377e+12                 NaN         78.270897   \n",
       "\n",
       "            Trades_roll_std7  \n",
       "Date                          \n",
       "2011-06-01               NaN  \n",
       "2011-06-02               NaN  \n",
       "2011-06-03               NaN  \n",
       "2011-06-06               NaN  \n",
       "2011-06-07               NaN  \n",
       "\n",
       "[5 rows x 34 columns]"
      ]
     },
     "execution_count": 59,
     "metadata": {},
     "output_type": "execute_result"
    }
   ],
   "source": [
    "data1.head()"
   ]
  },
  {
   "cell_type": "code",
   "execution_count": 60,
   "id": "0714d50b",
   "metadata": {},
   "outputs": [
    {
     "data": {
      "text/plain": [
       "Index(['Symbol', 'Series', 'Prev Close', 'Open', 'High', 'Low', 'Last',\n",
       "       'Close', 'VWAP', 'Volume', 'Turnover', 'Trades', 'Deliverable Volume',\n",
       "       '%Deliverble', 'High_roll_mean3', 'High_roll_mean7', 'Low_roll_mean3',\n",
       "       'Low_roll_mean7', 'Volume_roll_mean3', 'Volume_roll_mean7',\n",
       "       'Turnover_roll_mean3', 'Turnover_roll_mean7', 'Trades_roll_mean3',\n",
       "       'Trades_roll_mean7', 'High_roll_std3', 'High_roll_std7',\n",
       "       'Low_roll_std3', 'Low_roll_std7', 'Volume_roll_std3',\n",
       "       'Volume_roll_std7', 'Turnover_roll_std3', 'Turnover_roll_std7',\n",
       "       'Trades_roll_std3', 'Trades_roll_std7'],\n",
       "      dtype='object')"
      ]
     },
     "execution_count": 60,
     "metadata": {},
     "output_type": "execute_result"
    }
   ],
   "source": [
    "data1.columns"
   ]
  },
  {
   "cell_type": "code",
   "execution_count": 27,
   "id": "e9d5c340",
   "metadata": {},
   "outputs": [],
   "source": [
    "# drop columns from the data frame\n",
    "### data = data.drop(['Highroll_mean7', 'Lowroll_mean3', 'Lowroll_mean7',\n",
    "  #     'Volumeroll_mean3', 'Volumeroll_mean7', 'Turnoverroll_mean3',\n",
    "  #   'Turnoverroll_mean7'] , inplace = True, axis=1)"
   ]
  },
  {
   "cell_type": "code",
   "execution_count": 61,
   "id": "911f39ec",
   "metadata": {},
   "outputs": [
    {
     "data": {
      "text/plain": [
       "(2291, 34)"
      ]
     },
     "execution_count": 61,
     "metadata": {},
     "output_type": "execute_result"
    }
   ],
   "source": [
    "data1.shape"
   ]
  },
  {
   "cell_type": "code",
   "execution_count": 29,
   "id": "bea2f2d1",
   "metadata": {},
   "outputs": [],
   "source": [
    "# finding the null values in the data frame and drop"
   ]
  },
  {
   "cell_type": "code",
   "execution_count": 62,
   "id": "64b9d51a",
   "metadata": {},
   "outputs": [
    {
     "data": {
      "text/plain": [
       "Symbol                 0\n",
       "Series                 0\n",
       "Prev Close             0\n",
       "Open                   0\n",
       "High                   0\n",
       "Low                    0\n",
       "Last                   0\n",
       "Close                  0\n",
       "VWAP                   0\n",
       "Volume                 0\n",
       "Turnover               0\n",
       "Trades                 0\n",
       "Deliverable Volume     0\n",
       "%Deliverble            0\n",
       "High_roll_mean3        2\n",
       "High_roll_mean7        6\n",
       "Low_roll_mean3         2\n",
       "Low_roll_mean7         6\n",
       "Volume_roll_mean3      2\n",
       "Volume_roll_mean7      6\n",
       "Turnover_roll_mean3    2\n",
       "Turnover_roll_mean7    6\n",
       "Trades_roll_mean3      2\n",
       "Trades_roll_mean7      6\n",
       "High_roll_std3         2\n",
       "High_roll_std7         6\n",
       "Low_roll_std3          2\n",
       "Low_roll_std7          6\n",
       "Volume_roll_std3       2\n",
       "Volume_roll_std7       6\n",
       "Turnover_roll_std3     2\n",
       "Turnover_roll_std7     6\n",
       "Trades_roll_std3       2\n",
       "Trades_roll_std7       6\n",
       "dtype: int64"
      ]
     },
     "execution_count": 62,
     "metadata": {},
     "output_type": "execute_result"
    }
   ],
   "source": [
    "data1.isna().sum()"
   ]
  },
  {
   "cell_type": "code",
   "execution_count": 63,
   "id": "23b73a3d",
   "metadata": {},
   "outputs": [],
   "source": [
    "data1.dropna(inplace = True)"
   ]
  },
  {
   "cell_type": "code",
   "execution_count": 64,
   "id": "f0cfeedb",
   "metadata": {
    "scrolled": true
   },
   "outputs": [
    {
     "data": {
      "text/plain": [
       "Symbol                 0\n",
       "Series                 0\n",
       "Prev Close             0\n",
       "Open                   0\n",
       "High                   0\n",
       "Low                    0\n",
       "Last                   0\n",
       "Close                  0\n",
       "VWAP                   0\n",
       "Volume                 0\n",
       "Turnover               0\n",
       "Trades                 0\n",
       "Deliverable Volume     0\n",
       "%Deliverble            0\n",
       "High_roll_mean3        0\n",
       "High_roll_mean7        0\n",
       "Low_roll_mean3         0\n",
       "Low_roll_mean7         0\n",
       "Volume_roll_mean3      0\n",
       "Volume_roll_mean7      0\n",
       "Turnover_roll_mean3    0\n",
       "Turnover_roll_mean7    0\n",
       "Trades_roll_mean3      0\n",
       "Trades_roll_mean7      0\n",
       "High_roll_std3         0\n",
       "High_roll_std7         0\n",
       "Low_roll_std3          0\n",
       "Low_roll_std7          0\n",
       "Volume_roll_std3       0\n",
       "Volume_roll_std7       0\n",
       "Turnover_roll_std3     0\n",
       "Turnover_roll_std7     0\n",
       "Trades_roll_std3       0\n",
       "Trades_roll_std7       0\n",
       "dtype: int64"
      ]
     },
     "execution_count": 64,
     "metadata": {},
     "output_type": "execute_result"
    }
   ],
   "source": [
    "data1.isna().sum()"
   ]
  },
  {
   "cell_type": "code",
   "execution_count": 33,
   "id": "f24984e8",
   "metadata": {},
   "outputs": [],
   "source": [
    "# creating list using independent features"
   ]
  },
  {
   "cell_type": "code",
   "execution_count": 65,
   "id": "89e1644d",
   "metadata": {},
   "outputs": [
    {
     "data": {
      "text/plain": [
       "Index(['Symbol', 'Series', 'Prev Close', 'Open', 'High', 'Low', 'Last',\n",
       "       'Close', 'VWAP', 'Volume', 'Turnover', 'Trades', 'Deliverable Volume',\n",
       "       '%Deliverble', 'High_roll_mean3', 'High_roll_mean7', 'Low_roll_mean3',\n",
       "       'Low_roll_mean7', 'Volume_roll_mean3', 'Volume_roll_mean7',\n",
       "       'Turnover_roll_mean3', 'Turnover_roll_mean7', 'Trades_roll_mean3',\n",
       "       'Trades_roll_mean7', 'High_roll_std3', 'High_roll_std7',\n",
       "       'Low_roll_std3', 'Low_roll_std7', 'Volume_roll_std3',\n",
       "       'Volume_roll_std7', 'Turnover_roll_std3', 'Turnover_roll_std7',\n",
       "       'Trades_roll_std3', 'Trades_roll_std7'],\n",
       "      dtype='object')"
      ]
     },
     "execution_count": 65,
     "metadata": {},
     "output_type": "execute_result"
    }
   ],
   "source": [
    "data1.columns"
   ]
  },
  {
   "cell_type": "code",
   "execution_count": 111,
   "id": "4c2382aa",
   "metadata": {},
   "outputs": [],
   "source": [
    "indi_feat = ['High_roll_mean3', 'High_roll_mean7', 'Low_roll_mean3',\n",
    "       'Low_roll_mean7', 'Volume_roll_mean3', 'Volume_roll_mean7',\n",
    "       'Turnover_roll_mean3', 'Turnover_roll_mean7', 'Trades_roll_mean3',\n",
    "       'Trades_roll_mean7', 'High_roll_std3', 'High_roll_std7',\n",
    "       'Low_roll_std3', 'Low_roll_std7', 'Volume_roll_std3',\n",
    "       'Volume_roll_std7', 'Turnover_roll_std3', 'Turnover_roll_std7',\n",
    "       'Trades_roll_std3', 'Trades_roll_std7']"
   ]
  },
  {
   "cell_type": "code",
   "execution_count": 112,
   "id": "286e50f4",
   "metadata": {},
   "outputs": [],
   "source": [
    "# creating training and testing data frame"
   ]
  },
  {
   "cell_type": "code",
   "execution_count": 113,
   "id": "6e5556ec",
   "metadata": {},
   "outputs": [],
   "source": [
    "train_data = data1[0:1800]"
   ]
  },
  {
   "cell_type": "code",
   "execution_count": 114,
   "id": "25f5e664",
   "metadata": {},
   "outputs": [],
   "source": [
    "test_data = data1[1800:]"
   ]
  },
  {
   "cell_type": "code",
   "execution_count": 115,
   "id": "ae548f57",
   "metadata": {},
   "outputs": [
    {
     "data": {
      "text/plain": [
       "(1800, 34)"
      ]
     },
     "execution_count": 115,
     "metadata": {},
     "output_type": "execute_result"
    }
   ],
   "source": [
    "train_data.shape"
   ]
  },
  {
   "cell_type": "code",
   "execution_count": 128,
   "id": "2f29e0e1",
   "metadata": {},
   "outputs": [],
   "source": [
    "from statsmodels.tsa.arima.model import ARIMA"
   ]
  },
  {
   "cell_type": "code",
   "execution_count": 116,
   "id": "1a891542",
   "metadata": {},
   "outputs": [
    {
     "data": {
      "text/plain": [
       "(485, 34)"
      ]
     },
     "execution_count": 116,
     "metadata": {},
     "output_type": "execute_result"
    }
   ],
   "source": [
    "test_data.shape"
   ]
  },
  {
   "cell_type": "code",
   "execution_count": 117,
   "id": "69a60f46",
   "metadata": {},
   "outputs": [],
   "source": [
    "# ARIMA - Auto regressive(p) -  integrating(d) - Moving average(q) - which provides PDQ factors\n",
    "#p - partial auto co-related factor which helps to reduce the co-relation in data"
   ]
  },
  {
   "cell_type": "code",
   "execution_count": 118,
   "id": "3ab3e780",
   "metadata": {},
   "outputs": [],
   "source": [
    "# Stationarity - variable is constant with respect to time"
   ]
  },
  {
   "cell_type": "code",
   "execution_count": 119,
   "id": "39127d63",
   "metadata": {},
   "outputs": [],
   "source": [
    "# install ARIMA"
   ]
  },
  {
   "cell_type": "code",
   "execution_count": 120,
   "id": "0092b9ea",
   "metadata": {},
   "outputs": [
    {
     "name": "stdout",
     "output_type": "stream",
     "text": [
      "Requirement already satisfied: pmdarima in c:\\users\\susee\\anaconda3\\lib\\site-packages (2.0.4)\n",
      "Requirement already satisfied: pandas>=0.19 in c:\\users\\susee\\anaconda3\\lib\\site-packages (from pmdarima) (1.4.4)\n",
      "Requirement already satisfied: packaging>=17.1 in c:\\users\\susee\\anaconda3\\lib\\site-packages (from pmdarima) (21.3)\n",
      "Requirement already satisfied: joblib>=0.11 in c:\\users\\susee\\anaconda3\\lib\\site-packages (from pmdarima) (1.1.0)\n",
      "Requirement already satisfied: numpy>=1.21.2 in c:\\users\\susee\\anaconda3\\lib\\site-packages (from pmdarima) (1.21.5)\n",
      "Requirement already satisfied: statsmodels>=0.13.2 in c:\\users\\susee\\anaconda3\\lib\\site-packages (from pmdarima) (0.13.2)\n",
      "Requirement already satisfied: Cython!=0.29.18,!=0.29.31,>=0.29 in c:\\users\\susee\\anaconda3\\lib\\site-packages (from pmdarima) (0.29.32)\n",
      "Requirement already satisfied: scikit-learn>=0.22 in c:\\users\\susee\\anaconda3\\lib\\site-packages (from pmdarima) (0.24.0)\n",
      "Requirement already satisfied: urllib3 in c:\\users\\susee\\anaconda3\\lib\\site-packages (from pmdarima) (1.26.11)\n",
      "Requirement already satisfied: setuptools!=50.0.0,>=38.6.0 in c:\\users\\susee\\anaconda3\\lib\\site-packages (from pmdarima) (63.4.1)\n",
      "Requirement already satisfied: scipy>=1.3.2 in c:\\users\\susee\\anaconda3\\lib\\site-packages (from pmdarima) (1.9.1)\n",
      "Requirement already satisfied: pyparsing!=3.0.5,>=2.0.2 in c:\\users\\susee\\anaconda3\\lib\\site-packages (from packaging>=17.1->pmdarima) (3.0.9)\n",
      "Requirement already satisfied: python-dateutil>=2.8.1 in c:\\users\\susee\\anaconda3\\lib\\site-packages (from pandas>=0.19->pmdarima) (2.8.2)\n",
      "Requirement already satisfied: pytz>=2020.1 in c:\\users\\susee\\anaconda3\\lib\\site-packages (from pandas>=0.19->pmdarima) (2022.1)\n",
      "Requirement already satisfied: threadpoolctl>=2.0.0 in c:\\users\\susee\\anaconda3\\lib\\site-packages (from scikit-learn>=0.22->pmdarima) (2.2.0)\n",
      "Requirement already satisfied: patsy>=0.5.2 in c:\\users\\susee\\anaconda3\\lib\\site-packages (from statsmodels>=0.13.2->pmdarima) (0.5.2)\n",
      "Requirement already satisfied: six in c:\\users\\susee\\anaconda3\\lib\\site-packages (from patsy>=0.5.2->statsmodels>=0.13.2->pmdarima) (1.16.0)\n"
     ]
    }
   ],
   "source": [
    "!pip install pmdarima"
   ]
  },
  {
   "cell_type": "code",
   "execution_count": 121,
   "id": "4c2acd33",
   "metadata": {},
   "outputs": [],
   "source": [
    "# applying auto ARIMA on data"
   ]
  },
  {
   "cell_type": "code",
   "execution_count": 129,
   "id": "8efda229",
   "metadata": {},
   "outputs": [],
   "source": [
    "from pmdarima import auto_arima"
   ]
  },
  {
   "cell_type": "code",
   "execution_count": 130,
   "id": "8c9aebd1",
   "metadata": {},
   "outputs": [],
   "source": [
    "# ignore the warning"
   ]
  },
  {
   "cell_type": "code",
   "execution_count": 131,
   "id": "aa366bc5",
   "metadata": {},
   "outputs": [],
   "source": [
    "import warnings\n",
    "##warnings.filterwarnings('ignore')"
   ]
  },
  {
   "cell_type": "code",
   "execution_count": 132,
   "id": "cf0c5c06",
   "metadata": {},
   "outputs": [
    {
     "name": "stdout",
     "output_type": "stream",
     "text": [
      "Performing stepwise search to minimize aic\n",
      " ARIMA(2,1,2)(0,0,0)[0] intercept   : AIC=inf, Time=3.30 sec\n",
      " ARIMA(0,1,0)(0,0,0)[0] intercept   : AIC=25013.840, Time=0.07 sec\n",
      " ARIMA(1,1,0)(0,0,0)[0] intercept   : AIC=25015.795, Time=0.06 sec\n",
      " ARIMA(0,1,1)(0,0,0)[0] intercept   : AIC=25015.799, Time=0.08 sec\n",
      " ARIMA(0,1,0)(0,0,0)[0]             : AIC=25011.876, Time=0.05 sec\n",
      " ARIMA(1,1,1)(0,0,0)[0] intercept   : AIC=inf, Time=1.35 sec\n",
      "\n",
      "Best model:  ARIMA(0,1,0)(0,0,0)[0]          \n",
      "Total fit time: 4.931 seconds\n"
     ]
    }
   ],
   "source": [
    "model = auto_arima(y = train_data['VWAP'],exogenous=train_data[indi_feat] , trace =True)"
   ]
  },
  {
   "cell_type": "code",
   "execution_count": 133,
   "id": "ceb998e1",
   "metadata": {},
   "outputs": [],
   "source": [
    "# for better ARIMA model we should have low value of AIC\n",
    "# fitting model"
   ]
  },
  {
   "cell_type": "code",
   "execution_count": 134,
   "id": "c4bac88c",
   "metadata": {},
   "outputs": [
    {
     "data": {
      "text/plain": [
       "ARIMA(order=(0, 1, 0), scoring_args={}, suppress_warnings=True,\n",
       "      with_intercept=False)"
      ]
     },
     "execution_count": 134,
     "metadata": {},
     "output_type": "execute_result"
    }
   ],
   "source": [
    "model"
   ]
  },
  {
   "cell_type": "code",
   "execution_count": 135,
   "id": "2c5bf3ee",
   "metadata": {},
   "outputs": [
    {
     "data": {
      "text/plain": [
       "ARIMA(order=(0, 1, 0), scoring_args={}, suppress_warnings=True,\n",
       "      with_intercept=False)"
      ]
     },
     "execution_count": 135,
     "metadata": {},
     "output_type": "execute_result"
    }
   ],
   "source": [
    "model.fit(train_data['VWAP'],train_data[indi_feat])"
   ]
  },
  {
   "cell_type": "code",
   "execution_count": 148,
   "id": "8b3c1f5f",
   "metadata": {},
   "outputs": [
    {
     "data": {
      "text/plain": [
       "1800    2623.187377\n",
       "1801    2638.865969\n",
       "1802    2624.665321\n",
       "1803    2597.896330\n",
       "1804    2614.923790\n",
       "           ...     \n",
       "2280    2810.499283\n",
       "2281    2890.718331\n",
       "2282    2864.574183\n",
       "2283    2810.738766\n",
       "2284    2462.955810\n",
       "Length: 485, dtype: float64"
      ]
     },
     "execution_count": 148,
     "metadata": {},
     "output_type": "execute_result"
    }
   ],
   "source": [
    "model.predict(n_periods=len(test_data),exogenous=test_data[indi_feat],X=test_data[indi_feat])"
   ]
  },
  {
   "cell_type": "code",
   "execution_count": 149,
   "id": "1ff07364",
   "metadata": {},
   "outputs": [],
   "source": [
    "test_data['Forecast_ARIMA']=forecast"
   ]
  },
  {
   "cell_type": "code",
   "execution_count": 151,
   "id": "53852b14",
   "metadata": {},
   "outputs": [
    {
     "data": {
      "text/plain": [
       "<AxesSubplot:xlabel='Date'>"
      ]
     },
     "execution_count": 151,
     "metadata": {},
     "output_type": "execute_result"
    },
    {
     "data": {
      "image/png": "[encoded data removed]",
      "text/plain": [
       "<Figure size 1000x500 with 1 Axes>"
      ]
     },
     "metadata": {},
     "output_type": "display_data"
    }
   ],
   "source": [
    "test_data[['VWAP','Forecast_ARIMA']].plot(figsize =(10,5))"
   ]
  },
  {
   "cell_type": "code",
   "execution_count": 152,
   "id": "fbe4f396",
   "metadata": {},
   "outputs": [],
   "source": [
    "# Importing mean absolute and mean squared error"
   ]
  },
  {
   "cell_type": "code",
   "execution_count": 154,
   "id": "753716c0",
   "metadata": {},
   "outputs": [],
   "source": [
    "from sklearn.metrics import mean_absolute_error, mean_squared_error"
   ]
  },
  {
   "cell_type": "code",
   "execution_count": null,
   "id": "68999dcd",
   "metadata": {},
   "outputs": [],
   "source": [
    "np.sqrt(mean_squared_error(test_data['VWAP'] , test_data['Forecast_ARIMA']))"
   ]
  },
  {
   "cell_type": "code",
   "execution_count": null,
   "id": "6396a51d",
   "metadata": {},
   "outputs": [],
   "source": [
    "mean_absolute_error(test_data['VWAP'] , test_data['Forecast_ARIMA'])"
   ]
  },
  {
   "cell_type": "code",
   "execution_count": null,
   "id": "4891fce8",
   "metadata": {},
   "outputs": [],
   "source": []
  },
  {
   "cell_type": "code",
   "execution_count": null,
   "id": "6d3c78f2",
   "metadata": {},
   "outputs": [],
   "source": []
  },
  {
   "cell_type": "code",
   "execution_count": null,
   "id": "f8469dc0",
   "metadata": {},
   "outputs": [],
   "source": []
  },
  {
   "cell_type": "code",
   "execution_count": null,
   "id": "4cd673bd",
   "metadata": {},
   "outputs": [],
   "source": []
  }
 ],
 "metadata": {
  "kernelspec": {
   "display_name": "Python 3 (ipykernel)",
   "language": "python",
   "name": "python3"
  },
  "language_info": {
   "codemirror_mode": {
    "name": "ipython",
    "version": 3
   },
   "file_extension": ".py",
   "mimetype": "text/x-python",
   "name": "python",
   "nbconvert_exporter": "python",
   "pygments_lexer": "ipython3",
   "version": "3.9.13"
  }
 },
 "nbformat": 4,
 "nbformat_minor": 5
}
